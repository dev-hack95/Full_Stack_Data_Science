{
 "cells": [
  {
   "cell_type": "code",
   "execution_count": 1,
   "id": "48716085",
   "metadata": {},
   "outputs": [],
   "source": [
    "# Problem_1\n",
    "def count(data):\n",
    "    count=0\n",
    "    for i in data:\n",
    "        count += 1\n",
    "    return count"
   ]
  },
  {
   "cell_type": "code",
   "execution_count": 2,
   "id": "5ab19ee0",
   "metadata": {},
   "outputs": [
    {
     "data": {
      "text/plain": [
       "5"
      ]
     },
     "execution_count": 2,
     "metadata": {},
     "output_type": "execute_result"
    }
   ],
   "source": [
    "count(\"Hello\")"
   ]
  },
  {
   "cell_type": "code",
   "execution_count": 3,
   "id": "ffcf1d88",
   "metadata": {},
   "outputs": [
    {
     "name": "stdout",
     "output_type": "stream",
     "text": [
      "1 =  0\n",
      "2 =  1\n",
      "3 =  2\n",
      "4 =  3\n",
      "5 =  4\n",
      "sudh =  5\n",
      "ineuron =  6\n"
     ]
    }
   ],
   "source": [
    "# Problem_2\n",
    "def fun_1(data):\n",
    "    for i in range(0, len(data)):\n",
    "        print(data[i], \"= \", i)\n",
    "        \n",
    "list_1 = [1, 2, 3, 4, 5, \"sudh\", \"ineuron\"]\n",
    "\n",
    "fun_1(list_1)"
   ]
  },
  {
   "cell_type": "code",
   "execution_count": null,
   "id": "a56992c2",
   "metadata": {},
   "outputs": [],
   "source": []
  }
 ],
 "metadata": {
  "kernelspec": {
   "display_name": "Python 3 (ipykernel)",
   "language": "python",
   "name": "python3"
  },
  "language_info": {
   "codemirror_mode": {
    "name": "ipython",
    "version": 3
   },
   "file_extension": ".py",
   "mimetype": "text/x-python",
   "name": "python",
   "nbconvert_exporter": "python",
   "pygments_lexer": "ipython3",
   "version": "3.10.6"
  }
 },
 "nbformat": 4,
 "nbformat_minor": 5
}
